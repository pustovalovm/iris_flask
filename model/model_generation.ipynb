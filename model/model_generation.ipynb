{
 "cells": [
  {
   "cell_type": "code",
   "execution_count": 1,
   "id": "ff33075d-9d95-48dc-946f-617b5aab145e",
   "metadata": {},
   "outputs": [],
   "source": [
    "from sklearn.neighbors import KNeighborsClassifier\n",
    "from sklearn.datasets import load_iris\n",
    "from sklearn.model_selection import train_test_split\n",
    "from sklearn.metrics import accuracy_score, f1_score\n",
    "from sklearn.ensemble import RandomForestClassifier\n",
    "import matplotlib.pyplot as plt\n",
    "import seaborn as sns\n",
    "import numpy as np\n",
    "import pickle"
   ]
  },
  {
   "cell_type": "markdown",
   "id": "1ddbf7f6-4ed5-4894-a709-5361054c7eef",
   "metadata": {},
   "source": [
    "**Воспользуемся датасетом ирисов Фишера, будем классифицировать их при помощи random forest**"
   ]
  },
  {
   "cell_type": "code",
   "execution_count": 1,
   "id": "f90706d5-a96a-4f77-85a9-551215079225",
   "metadata": {},
   "outputs": [],
   "source": [
    "X, y = load_iris(return_X_y=True)\n",
    "X_train, X_test, y_train, y_test = train_test_split(X, y, test_size = 0.3)\n",
    "rf = RandomForestClassifier(max_depth=15)\n",
    "rf.fit(X_train,y_train)\n",
    "y_pred = rf.predict(X_test)"
   ]
  },
  {
   "cell_type": "markdown",
   "id": "2f65920f-bbcd-4a62-b695-a5dfd958566c",
   "metadata": {},
   "source": [
    "**Оценим качество модели по f1 score**"
   ]
  },
  {
   "cell_type": "code",
   "execution_count": 2,
   "id": "75ffabd5-6c58-4dce-86d6-bbe903c836b1",
   "metadata": {},
   "outputs": [
    {
     "data": {
      "text/plain": [
       "0.9791463017269469"
      ]
     },
     "execution_count": 2,
     "metadata": {},
     "output_type": "execute_result"
    }
   ],
   "source": [
    "f1_score(y_test, y_pred, average = 'macro')"
   ]
  },
  {
   "cell_type": "markdown",
   "id": "e16019e8-baa2-4d26-82bc-5d97d4890e08",
   "metadata": {},
   "source": [
    "**Ну, пойдёт. Закидываем в pickle и на прод.**"
   ]
  },
  {
   "cell_type": "code",
   "execution_count": 4,
   "id": "b05ddd90-0b33-4fb8-80cb-86e41a3305ac",
   "metadata": {},
   "outputs": [],
   "source": [
    "with open('rf.pkl', 'wb') as output:\n",
    "    pickle.dump(rf, output)"
   ]
  }
 ],
 "metadata": {
  "kernelspec": {
   "display_name": "Python 3",
   "language": "python",
   "name": "python3"
  },
  "language_info": {
   "codemirror_mode": {
    "name": "ipython",
    "version": 3
   },
   "file_extension": ".py",
   "mimetype": "text/x-python",
   "name": "python",
   "nbconvert_exporter": "python",
   "pygments_lexer": "ipython3",
   "version": "3.8.8"
  }
 },
 "nbformat": 4,
 "nbformat_minor": 5
}
